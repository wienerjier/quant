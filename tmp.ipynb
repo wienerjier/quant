{
 "cells": [
  {
   "cell_type": "code",
   "execution_count": 7,
   "metadata": {},
   "outputs": [
    {
     "name": "stdout",
     "output_type": "stream",
     "text": [
      "hs300 shape  (1078154, 15)\n"
     ]
    }
   ],
   "source": [
    "from utils.SQLutils import connectMysql, readMysqlTable2DF, MysqlEngine\n",
    "import featureUtils\n",
    "import pandas as pd\n",
    "import numpy as np\n",
    "\n",
    "# 连接Mysql的引擎\n",
    "sql_engine = MysqlEngine(host='localhost',port='3306',user='wieneralan',password='0922',database='stock_data')\n",
    "## 从Mysql的中读数据\n",
    "symbols = readMysqlTable2DF(sql_engine,'hs300name_wiki', sel_column='code')\n",
    "df = readMysqlTable2DF(sql_engine,'hs300_daily_price', sel_column='*')\n",
    "print('hs300 shape ',df.shape)\n",
    "# 定义特征数据列表\n",
    "df_feat = pd.DataFrame()\n",
    "                        \n",
    "# 循环提取特征\n",
    "num = 0\n",
    "\n"
   ]
  },
  {
   "cell_type": "code",
   "execution_count": 8,
   "metadata": {},
   "outputs": [
    {
     "name": "stdout",
     "output_type": "stream",
     "text": [
      "1\n",
      "2\n"
     ]
    }
   ],
   "source": [
    "for index, symbol in symbols['code'].items():\n",
    "    num+=1\n",
    "    if(num>2):\n",
    "        break\n",
    "    # 依次取出每个股票的数据\n",
    "    iter_feat = pd.DataFrame() # 初始化每次的数据列表\n",
    "    df_symbol=df.query('symbol == @symbol')\n",
    "    # 增加股票id和日期列\n",
    "    iter_feat['symbol'] = df_symbol['symbol'] # 存股票id\n",
    "    iter_feat['price_date'] = df_symbol['price_date'] # 存股票日期\n",
    "    iter_feat['close_price'] = df_symbol['close_price'] # 存股票日期\n",
    "\n",
    "    # 计算特征\n",
    "    \n",
    "    iter_feat['open_price_daily_return'] = featureUtils.create_open_price_return(df_symbol['open_price']) # 开盘价涨幅比例\n",
    "    iter_feat['high_price_daily_return'] = featureUtils.create_history_return(df_symbol['high_price']) # 昨天最高价涨幅\n",
    "    iter_feat['low_price_daily_return'] = featureUtils.create_history_return(df_symbol['low_price']) # 昨天最低价涨幅\n",
    "    iter_feat['amount_daily_return'] = featureUtils.create_history_return(df_symbol['amount']) # 昨天成交量涨幅\n",
    "    iter_feat['open_price_return_n'] = featureUtils.create_open_price_return_n(\n",
    "                                        df_symbol['open_price'],df_symbol['high_price'],df_symbol['low_price'],5) # 今日相比昨日开盘的涨幅/过去n天最高价与最低价的差值\n",
    "    iter_feat['EMV'] = featureUtils.create_EMV(df_symbol['high_price'], df_symbol['low_price'], df_symbol['amount'],14)\n",
    "\n",
    "    iter_feat['SMA'] = featureUtils.create_SMA(df_symbol['close_price'], 4)\n",
    "    # iter_feat['TEMA'] = featureUtils.create_TEMA(df_symbol['close_price'], 30).shift(1)\n",
    "    # iter_feat['TRIMA'] = featureUtils.create_TRIMA(df_symbol['close_price'], 30).shift(1)\n",
    "    # iter_feat['WMA'] = featureUtils.create_WMA(df_symbol['close_price'], 30).shift(1)\n",
    "    # iter_feat['ROC'] = featureUtils.create_ROC(df_symbol['close_price'], 10).shift(1)\n",
    "    # iter_feat['ROCP'] = featureUtils.create_ROCP(df_symbol['close_price'], 10).shift(1)\n",
    "    # iter_feat['CCI'] = featureUtils.create_CCI(df_symbol['high_price'],df_symbol['low_price'],df_symbol['close_price'],20).shift(1)\n",
    "    # iter_feat['Force_Index'] = featureUtils.create_Force_Index(df_symbol['close_price'], df_symbol['amount'], 1).shift(1)\n",
    "    # iter_feat['BBupper'],iter_feat['middle2'],iter_feat['lower2'] = featureUtils.create_BBANDS(df_symbol['close_price'])\n",
    "    \n",
    "    # 存入DataFrame中\n",
    "    df_feat = pd.concat([df_feat, iter_feat])\n",
    "    print(num)"
   ]
  },
  {
   "cell_type": "code",
   "execution_count": 3,
   "metadata": {},
   "outputs": [
    {
     "name": "stdout",
     "output_type": "stream",
     "text": [
      "       symbol price_date  close_price  open_price_daily_return  \\\n",
      "0      000001 1991-04-03        49.00                      NaN   \n",
      "1      000001 1991-04-04        48.76                -0.004898   \n",
      "2      000001 1991-04-05        48.52                -0.004922   \n",
      "3      000001 1991-04-06        48.28                -0.004946   \n",
      "4      000001 1991-04-08        48.04                -0.004971   \n",
      "...       ...        ...          ...                      ...   \n",
      "15610  000002 2023-11-21        11.92                 0.006832   \n",
      "15611  000002 2023-11-22        11.84                 0.005089   \n",
      "15612  000002 2023-11-23        12.17                 0.000844   \n",
      "15613  000002 2023-11-24        12.12                 0.027825   \n",
      "15614  000002 2023-11-27        11.80                -0.010664   \n",
      "\n",
      "       high_price_daily_return  low_price_daily_return  amount_daily_return  \\\n",
      "0                          NaN                     NaN                  NaN   \n",
      "1                          NaN                     NaN                  NaN   \n",
      "2                    -0.004898               -0.004898             2.000000   \n",
      "3                    -0.004922               -0.004922            -0.333333   \n",
      "4                    -0.004946               -0.004946             2.500000   \n",
      "...                        ...                     ...                  ...   \n",
      "15610                -0.005085               -0.000865            -0.101133   \n",
      "15611                 0.039182                0.017316             2.508345   \n",
      "15612                 0.000000                0.005957            -0.378255   \n",
      "15613                 0.007377               -0.002538             0.228876   \n",
      "15614                 0.000814                0.024597            -0.303731   \n",
      "\n",
      "       open_price_return_n           EMV        SMA  \n",
      "0                      NaN           NaN        NaN  \n",
      "1                      NaN           NaN        NaN  \n",
      "2                      NaN           NaN        NaN  \n",
      "3                      NaN           NaN        NaN  \n",
      "4                      NaN           NaN        NaN  \n",
      "...                    ...           ...        ...  \n",
      "15610             0.150943  9.089344e-09  11.811333  \n",
      "15611             0.092308  1.047874e-08  11.780333  \n",
      "15612             0.015385  1.388538e-08  11.758000  \n",
      "15613             0.445946  2.518642e-09  11.742333  \n",
      "15614            -0.173333 -1.127183e-08  11.728667  \n",
      "\n",
      "[15615 rows x 10 columns]\n"
     ]
    }
   ],
   "source": [
    "print(df_feat)"
   ]
  },
  {
   "cell_type": "code",
   "execution_count": 4,
   "metadata": {},
   "outputs": [
    {
     "ename": "NameError",
     "evalue": "name 'close_price' is not defined",
     "output_type": "error",
     "traceback": [
      "\u001b[0;31m---------------------------------------------------------------------------\u001b[0m",
      "\u001b[0;31mNameError\u001b[0m                                 Traceback (most recent call last)",
      "Cell \u001b[0;32mIn[4], line 1\u001b[0m\n\u001b[0;32m----> 1\u001b[0m \u001b[38;5;28mprint\u001b[39m(df_feat[\u001b[43mclose_price\u001b[49m],df_feat[SMA])\n",
      "\u001b[0;31mNameError\u001b[0m: name 'close_price' is not defined"
     ]
    }
   ],
   "source": [
    "print(df_feat[close_price],df_feat[SMA])"
   ]
  },
  {
   "cell_type": "code",
   "execution_count": 10,
   "metadata": {},
   "outputs": [
    {
     "name": "stdout",
     "output_type": "stream",
     "text": [
      "0     49.00\n",
      "1     48.76\n",
      "2     48.52\n",
      "3     48.28\n",
      "4     48.04\n",
      "5     47.80\n",
      "6     47.56\n",
      "7     47.08\n",
      "8     46.84\n",
      "9     46.38\n",
      "10    46.15\n",
      "11    45.92\n",
      "12    45.69\n",
      "13    45.46\n",
      "14    45.00\n",
      "Name: close_price, dtype: float64 0         NaN\n",
      "1         NaN\n",
      "2         NaN\n",
      "3     48.6400\n",
      "4     48.4000\n",
      "5     48.1600\n",
      "6     47.9200\n",
      "7     47.6200\n",
      "8     47.3200\n",
      "9     46.9650\n",
      "10    46.6125\n",
      "11    46.3225\n",
      "12    46.0350\n",
      "13    45.8050\n",
      "14    45.5175\n",
      "Name: SMA, dtype: float64\n"
     ]
    }
   ],
   "source": [
    "print(df_feat[\"close_price\"][:15],df_feat[\"SMA\"][:15])"
   ]
  },
  {
   "cell_type": "code",
   "execution_count": null,
   "metadata": {},
   "outputs": [],
   "source": []
  }
 ],
 "metadata": {
  "kernelspec": {
   "display_name": "Python (quant)",
   "language": "python",
   "name": "quant"
  },
  "language_info": {
   "codemirror_mode": {
    "name": "ipython",
    "version": 3
   },
   "file_extension": ".py",
   "mimetype": "text/x-python",
   "name": "python",
   "nbconvert_exporter": "python",
   "pygments_lexer": "ipython3",
   "version": "3.9.13"
  }
 },
 "nbformat": 4,
 "nbformat_minor": 2
}
